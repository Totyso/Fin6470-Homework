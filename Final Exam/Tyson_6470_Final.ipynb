{
 "cells": [
  {
   "cell_type": "markdown",
   "metadata": {},
   "source": [
    "# __Finance 6470: Final Exam__\n",
    "\n",
    "<br>\n",
    "\n",
    "Finance 6470: Derivatives Markets <br>\n",
    "Tyler J. Brough <br>\n",
    "Last Updated: April 11, 2019 <br>\n",
    "<br>\n",
    "<br>"
   ]
  },
  {
   "cell_type": "markdown",
   "metadata": {},
   "source": [
    "## Numerical Workout Problems"
   ]
  },
  {
   "cell_type": "markdown",
   "metadata": {},
   "source": [
    "<br>\n",
    "\n",
    "\n",
    "**1.** Let $S = \\$100$, $K = \\$95$, $r = 8\\%$ (continuously compounded), $\\sigma = 30\\%$, $\\delta = 0$, $T = 1$ year, and $n = 3$ (binomial periods).\n",
    "  \n",
    "* What is the price for an American call option?\n",
    "* What is the price for a European call option? What do you conclude about early exercise for the American call option?\n",
    "* What is the price for a European put option? Is put-call parity satisfied?\n",
    "* What is the price for an America put option?\n",
    "\n",
    "<br>"
   ]
  },
  {
   "cell_type": "markdown",
   "metadata": {},
   "source": [
    "## American Call"
   ]
  },
  {
   "cell_type": "code",
   "execution_count": 5,
   "metadata": {},
   "outputs": [
    {
     "name": "stdout",
     "output_type": "stream",
     "text": [
      "The call price via American Binomial is: 18.283\n"
     ]
    }
   ],
   "source": [
    "from probo.marketdata import MarketData\n",
    "from probo.payoff import VanillaPayoff, call_payoff, put_payoff\n",
    "from probo.engine import BinomialPricingEngine, AmericanBinomialPricer, BlackScholesPricingEngine, BlackScholesPricer\n",
    "from probo.facade import OptionFacade\n",
    "\n",
    "## Set up the market data\n",
    "spot = 100.0\n",
    "rate = 0.08\n",
    "volatility = 0.30\n",
    "dividend = 0.0\n",
    "thedata = MarketData(rate, spot, volatility, dividend)\n",
    "\n",
    "## Set up the option\n",
    "expiry = 1.0 \n",
    "strike = 95.0\n",
    "thecall = VanillaPayoff(expiry, strike, call_payoff)\n",
    "theput = VanillaPayoff(expiry, strike, put_payoff)\n",
    "\n",
    "## Set up the European Binomial pricer\n",
    "steps = 3 \n",
    "pricer = AmericanBinomialPricer\n",
    "binomengine = BinomialPricingEngine(steps, pricer) \n",
    "\n",
    "## Calculate the price\n",
    "option1 = OptionFacade(thecall, binomengine, thedata)\n",
    "price1 = option1.price()\n",
    "print(\"The call price via American Binomial is: {0:.3f}\".format(price1))"
   ]
  },
  {
   "cell_type": "markdown",
   "metadata": {},
   "source": [
    "## European Call"
   ]
  },
  {
   "cell_type": "code",
   "execution_count": 6,
   "metadata": {},
   "outputs": [
    {
     "name": "stdout",
     "output_type": "stream",
     "text": [
      "The call price via European Binomial is: 18.283\n"
     ]
    }
   ],
   "source": [
    "from probo.engine import EuropeanBinomialPricer\n",
    "\n",
    "## Set up the European Binomial pricer\n",
    "steps = 3 \n",
    "pricer = EuropeanBinomialPricer\n",
    "binomengine = BinomialPricingEngine(steps, pricer) \n",
    "\n",
    "## Calculate the price\n",
    "option1 = OptionFacade(thecall, binomengine, thedata)\n",
    "price1 = option1.price()\n",
    "print(\"The call price via European Binomial is: {0:.3f}\".format(price1))"
   ]
  },
  {
   "cell_type": "markdown",
   "metadata": {},
   "source": [
    "Since there is no dividend in the problem, the price of the American call and European call will be equivalent, meaning there is absolutely no value to the early exercise option in the American call."
   ]
  },
  {
   "cell_type": "markdown",
   "metadata": {},
   "source": [
    "## European Put"
   ]
  },
  {
   "cell_type": "code",
   "execution_count": 7,
   "metadata": {},
   "outputs": [
    {
     "name": "stdout",
     "output_type": "stream",
     "text": [
      "The put price via European Binomial is: 5.979\n"
     ]
    }
   ],
   "source": [
    "option2 = OptionFacade(theput, binomengine, thedata)\n",
    "price2 = option2.price()\n",
    "print(\"The put price via European Binomial is: {0:.3f}\".format(price2))"
   ]
  },
  {
   "cell_type": "markdown",
   "metadata": {},
   "source": [
    "## Forward Contract"
   ]
  },
  {
   "cell_type": "code",
   "execution_count": 8,
   "metadata": {},
   "outputs": [
    {
     "data": {
      "text/plain": [
       "108.32870676749586"
      ]
     },
     "execution_count": 8,
     "metadata": {},
     "output_type": "execute_result"
    }
   ],
   "source": [
    "import numpy as np\n",
    "\n",
    "forward = spot * np.exp(rate * expiry)\n",
    "forward"
   ]
  },
  {
   "cell_type": "markdown",
   "metadata": {},
   "source": [
    "Put-Call Parity = Call - Put = Discount * (Forward - Strike)"
   ]
  },
  {
   "cell_type": "code",
   "execution_count": 9,
   "metadata": {},
   "outputs": [
    {
     "data": {
      "text/plain": [
       "12.303947093269588"
      ]
     },
     "execution_count": 9,
     "metadata": {},
     "output_type": "execute_result"
    }
   ],
   "source": [
    "Call_Minus_Put = price1 - price2\n",
    "Call_Minus_Put"
   ]
  },
  {
   "cell_type": "code",
   "execution_count": 10,
   "metadata": {},
   "outputs": [
    {
     "data": {
      "text/plain": [
       "12.303947093269604"
      ]
     },
     "execution_count": 10,
     "metadata": {},
     "output_type": "execute_result"
    }
   ],
   "source": [
    "Disc_Forward_Minus_Strike = (forward - strike) * np.exp(-rate * expiry)\n",
    "Disc_Forward_Minus_Strike"
   ]
  },
  {
   "cell_type": "code",
   "execution_count": 11,
   "metadata": {},
   "outputs": [
    {
     "data": {
      "text/plain": [
       "-0.0"
      ]
     },
     "execution_count": 11,
     "metadata": {},
     "output_type": "execute_result"
    }
   ],
   "source": [
    "round(Call_Minus_Put - Disc_Forward_Minus_Strike)"
   ]
  },
  {
   "cell_type": "markdown",
   "metadata": {},
   "source": [
    "Put-Call parity holds."
   ]
  },
  {
   "cell_type": "markdown",
   "metadata": {},
   "source": [
    "## American Put"
   ]
  },
  {
   "cell_type": "code",
   "execution_count": 12,
   "metadata": {},
   "outputs": [
    {
     "name": "stdout",
     "output_type": "stream",
     "text": [
      "The put price via American Binomial is: 5.979\n"
     ]
    }
   ],
   "source": [
    "option2 = OptionFacade(theput, binomengine, thedata)\n",
    "price2 = option2.price()\n",
    "print(\"The put price via American Binomial is: {0:.3f}\".format(price2))"
   ]
  },
  {
   "cell_type": "markdown",
   "metadata": {},
   "source": [
    "**2.** Make the same assumptions as in the previous problem, except let $\\delta = 0.03$.\n",
    "\n",
    "* Price an American call option with $n = 200$ binomial periods. \n",
    "* Now price a European call option using the Black-Scholes-Merton model.\n",
    "* Compare the different results. \n",
    "\n",
    "<br>"
   ]
  },
  {
   "cell_type": "markdown",
   "metadata": {},
   "source": [
    "## American Call"
   ]
  },
  {
   "cell_type": "code",
   "execution_count": 13,
   "metadata": {},
   "outputs": [
    {
     "name": "stdout",
     "output_type": "stream",
     "text": [
      "The call price via American Binomial is: 18.382\n"
     ]
    }
   ],
   "source": [
    "## Set up the market data\n",
    "spot = 100.0\n",
    "rate = 0.08\n",
    "volatility = 0.30\n",
    "dividend = 0.03\n",
    "thedata = MarketData(rate, spot, volatility, dividend)\n",
    "\n",
    "## Set up the option\n",
    "expiry = 1.0 \n",
    "strike = 95.0\n",
    "thecall = VanillaPayoff(expiry, strike, call_payoff)\n",
    "theput = VanillaPayoff(expiry, strike, put_payoff)\n",
    "\n",
    "## Set up the European Binomial pricer\n",
    "steps = 200\n",
    "pricer = AmericanBinomialPricer\n",
    "binomengine = BinomialPricingEngine(steps, pricer) \n",
    "\n",
    "## Calculate the price\n",
    "option1 = OptionFacade(thecall, binomengine, thedata)\n",
    "price1 = option1.price()\n",
    "print(\"The call price via American Binomial is: {0:.3f}\".format(price1))"
   ]
  },
  {
   "cell_type": "markdown",
   "metadata": {},
   "source": [
    "Though there is now a dividend involved, there is still no value to the early exercise option of the American call."
   ]
  },
  {
   "cell_type": "markdown",
   "metadata": {},
   "source": [
    "## European Call via Black-Scholes"
   ]
  },
  {
   "cell_type": "code",
   "execution_count": 14,
   "metadata": {},
   "outputs": [
    {
     "name": "stdout",
     "output_type": "stream",
     "text": [
      "The call price via Black-Scholes is: 16.305\n"
     ]
    }
   ],
   "source": [
    "## Set up the European Binomial pricer\n",
    "pricer = EuropeanBinomialPricer\n",
    "binomengine = BinomialPricingEngine(steps, pricer) \n",
    "\n",
    "## Set up the Black-Scholes pricer\n",
    "bsengine = BlackScholesPricingEngine(\"call\", BlackScholesPricer)\n",
    "option3 = OptionFacade(thecall, bsengine, thedata)\n",
    "price3 = option3.price()\n",
    "print(\"The call price via Black-Scholes is: {0:.3f}\".format(price3))"
   ]
  },
  {
   "cell_type": "markdown",
   "metadata": {},
   "source": [
    "The black scholes price is much different than the price via binomial pricing, even with 200 steps. In fact, there is almost a $2 difference in the premium computed via the 2 differing models."
   ]
  },
  {
   "cell_type": "markdown",
   "metadata": {},
   "source": [
    "## Computational Problems"
   ]
  },
  {
   "cell_type": "markdown",
   "metadata": {},
   "source": [
    "**3.** The binomial model of underlying asset price dynamics is given as follows (see McDonald Chapter 11):\n",
    "\n",
    "$$\n",
    "S_{t+h} = S_{t} e^{(r - \\delta)h \\pm \\sigma\\sqrt{h}}\n",
    "$$\n",
    "Assume the following data and parameters are given:\n",
    "\n",
    "* $S_{0} = \\$100$\n",
    "* $r = 6\\%$ \n",
    "* $\\sigma = 30\\%$\n",
    "* $T = 5$ years\n",
    "* $h = 0.01$\n",
    "\n",
    "<br>\n",
    "\n",
    "Simulate 500 steps in a path and plot the results below.\n",
    "\n",
    "<br>"
   ]
  },
  {
   "cell_type": "code",
   "execution_count": 15,
   "metadata": {},
   "outputs": [],
   "source": [
    "# Simulate Returns\n",
    "\n",
    "import pandas as pd\n",
    "import matplotlib.pyplot as plt\n",
    "\n",
    "spot = 100\n",
    "r = 0.06\n",
    "v = 0.3\n",
    "T = 5\n",
    "h = 0.01\n",
    "d = 0.0\n",
    "steps = 500\n",
    "\n",
    "u = np.exp((r - d) * h + v * np.sqrt(h))\n",
    "d = np.exp((r - d) * h - v * np.sqrt(h))\n",
    "p = (np.exp((r - d) * h) - d) / (u - d)\n",
    "a = np.random.uniform(size=steps)\n",
    "\n",
    "path = np.empty(steps)\n",
    "path[0] = spot\n",
    "\n",
    "for i in range(1, steps):\n",
    "    if a[i] > 0.5:\n",
    "        path[i] = path[i - 1] * u\n",
    "    else:\n",
    "        path[i] = path[i - 1] * d\n",
    "path = pd.Series(path)\n",
    "path.plot();"
   ]
  },
  {
   "cell_type": "markdown",
   "metadata": {},
   "source": [
    "<br>\n",
    "<br>\n",
    "\n",
    "Now repeat this process 1,000 times and store only the resulting terminal price for each simulated path. Plot a histogram for these resulting terminal prices. Comment on the shape of the histogram. \n",
    "\n",
    "<br>\n",
    "<br>"
   ]
  },
  {
   "cell_type": "code",
   "execution_count": 16,
   "metadata": {},
   "outputs": [],
   "source": [
    "## Histogram of terminal prices \n",
    "\n",
    "path = np.empty(steps)\n",
    "path[0] = spot\n",
    "reps = 1000\n",
    "terminal = np.empty(reps)\n",
    "\n",
    "for j in range(reps):\n",
    "    a = np.random.uniform(size=steps)\n",
    "    for i in range(1, steps):\n",
    "        a = np.random.rand()\n",
    "        if a > 0.5:\n",
    "            path[i] = path[i - 1] * u\n",
    "        else:\n",
    "            path[i] = path[i - 1] * d\n",
    "    terminal[j] = path[-1]"
   ]
  },
  {
   "cell_type": "code",
   "execution_count": 17,
   "metadata": {},
   "outputs": [
    {
     "data": {
      "image/png": "[encoded data removed]",
      "text/plain": [
       "<Figure size 432x288 with 1 Axes>"
      ]
     },
     "metadata": {},
     "output_type": "display_data"
    }
   ],
   "source": [
    "plt.hist(terminal, bins=50)\n",
    "plt.title('Histogram of Terminal Nodes')\n",
    "plt.ylabel('Frequency')\n",
    "plt.xlabel('Ending Price');"
   ]
  },
  {
   "cell_type": "markdown",
   "metadata": {},
   "source": [
    "The histogram has a large concentration between 0 and 200, since most of the simulations will not result in extreme returns. The spot price can not go negative, however, so the distribution is right skewed because of the possibility of extreme positive returns."
   ]
  },
  {
   "cell_type": "markdown",
   "metadata": {},
   "source": [
    "**4.** Now let's rearrange this original formula into a statment about returns (see McDonald Chapter 11).\n",
    "\n",
    "$$\n",
    "\\ln{\\left(S_{t+h} / S_{t}\\right)} = (r - \\delta)h \\pm \\sigma\\sqrt{h}\n",
    "$$\n",
    "\n",
    "<br>\n",
    "<br>\n",
    "\n",
    "Similar to the exercise above simulate a sample path with 500 steps and make a plot. Also, simulate the process 1,000 times keeping only the terminal return. Make a histogram of the resulting simulated terminal returns. Comment on the shape of the histogram. \n",
    "\n",
    "<br>"
   ]
  },
  {
   "cell_type": "code",
   "execution_count": 18,
   "metadata": {},
   "outputs": [
    {
     "data": {
      "image/png": "[encoded data removed]",
      "text/plain": [
       "<Figure size 432x288 with 1 Axes>"
      ]
     },
     "metadata": {},
     "output_type": "display_data"
    }
   ],
   "source": [
    "## Simulate returns\n",
    "\n",
    "spot = 100\n",
    "r = 0.06\n",
    "v = 0.3\n",
    "T = 5\n",
    "h = 0.01\n",
    "d = 0.0\n",
    "steps = 500\n",
    "\n",
    "u = (r - d) * h + v * np.sqrt(h)\n",
    "d = (r - d) * h - v * np.sqrt(h)\n",
    "a = np.random.uniform(size=steps)\n",
    "\n",
    "returns = np.empty(steps)\n",
    "\n",
    "for i in range(0, steps):\n",
    "    if a[i] > 0.5:\n",
    "        returns[i] = u\n",
    "    else:\n",
    "        returns[i] = d\n",
    "returns = pd.Series(returns)\n",
    "returns.plot();"
   ]
  },
  {
   "cell_type": "code",
   "execution_count": 19,
   "metadata": {},
   "outputs": [],
   "source": [
    "## Histogram of terminal prices \n",
    "\n",
    "returns = np.empty(steps)\n",
    "reps = 1000\n",
    "terminal = np.empty(reps)\n",
    "\n",
    "for j in range(reps):\n",
    "    a = np.random.uniform(size=steps)\n",
    "    for i in range(0, steps):\n",
    "        for i in range(0, steps):\n",
    "            if a[i] > 0.5:\n",
    "                returns[i] = u\n",
    "            else:\n",
    "                returns[i] = d\n",
    "    terminal[j] = returns[-1]"
   ]
  },
  {
   "cell_type": "code",
   "execution_count": 20,
   "metadata": {},
   "outputs": [
    {
     "data": {
      "image/png": "[encoded data removed]",
      "text/plain": [
       "<Figure size 432x288 with 1 Axes>"
      ]
     },
     "metadata": {},
     "output_type": "display_data"
    }
   ],
   "source": [
    "plt.hist(terminal, bins=50);"
   ]
  },
  {
   "cell_type": "markdown",
   "metadata": {},
   "source": [
    "Since there are 2 possible return results, the histogram is just 2 bars in either the positive result or negative result."
   ]
  },
  {
   "cell_type": "markdown",
   "metadata": {},
   "source": [
    "**5.** The Black-Scholes-Merton model assumes that the underlying asset price follows geometric Brownian motion as follows:\n",
    "\n",
    "<br>\n",
    "\n",
    "$$\n",
    "S_{t+h} = S_{t} e^{(r - \\delta - \\frac{1}{2}\\sigma^{2})h + \\sigma \\sqrt{h} Z}\n",
    "$$\n",
    "where $Z \\sim N(0,1)$. Assume the following:\n",
    "\n",
    "* $S_{0} = \\$40.0$\n",
    "* $K = \\$40.0$\n",
    "* $r = 8\\%$\n",
    "* $\\sigma = 30\\%$\n",
    "* $T = 91/365$ days\n",
    "* $\\delta = 0.0$\n",
    "\n",
    "<br>\n",
    "\n",
    "Simulate prices for 10 days and calculate mark-to-market profits/losses for the delta-hedged position on a written put option. Explain the results.\n",
    "\n",
    "<br>"
   ]
  },
  {
   "cell_type": "code",
   "execution_count": 39,
   "metadata": {},
   "outputs": [],
   "source": [
    "def bsmPutPrice(S, K, r, v, q, T):\n",
    "    d1 = (np.log(S/K) + (r - q + 0.5 * v * v) * T) / (v * np.sqrt(T))\n",
    "    d2 = (np.log(S/K) + (r - q - 0.5 * v * v) * T) / (v * np.sqrt(T))\n",
    "    putPrc =  K * np.exp(-r * T) * norm.cdf(-d2) - S * np.exp(-q * T) * norm.cdf(-d1)\n",
    "    \n",
    "    return putPrc "
   ]
  },
  {
   "cell_type": "code",
   "execution_count": 40,
   "metadata": {},
   "outputs": [],
   "source": [
    "def bsmPutDelta(spot, strike, vol, rate, tau, div):\n",
    "    d1 = (np.log(spot / strike) + (rate - div + 0.5 * vol * vol) * tau) / (vol * np.sqrt(tau))\n",
    "    delta = np.exp(-div * tau) * norm.cdf(-d1)\n",
    "\n",
    "    return delta"
   ]
  },
  {
   "cell_type": "code",
   "execution_count": 41,
   "metadata": {},
   "outputs": [],
   "source": [
    "spot = 40.0\n",
    "strike = 40.0\n",
    "r = 0.08\n",
    "v = 0.30\n",
    "T = 91.0 / 365.0\n",
    "d = 0.0"
   ]
  },
  {
   "cell_type": "markdown",
   "metadata": {},
   "source": [
    "## Initial Prices"
   ]
  },
  {
   "cell_type": "code",
   "execution_count": 42,
   "metadata": {},
   "outputs": [],
   "source": [
    "from scipy.stats import norm"
   ]
  },
  {
   "cell_type": "code",
   "execution_count": 43,
   "metadata": {},
   "outputs": [
    {
     "name": "stdout",
     "output_type": "stream",
     "text": [
      "The Value of the European Put Option is:  1.9905\n"
     ]
    }
   ],
   "source": [
    "PutPrc = bsmPutPrice(spot, strike, r, v, d, T)\n",
    "print(f\"The Value of the European Put Option is: {PutPrc : 0.04f}\")"
   ]
  },
  {
   "cell_type": "code",
   "execution_count": 44,
   "metadata": {},
   "outputs": [
    {
     "name": "stdout",
     "output_type": "stream",
     "text": [
      "The Value of the European Put Delta is:  0.4176\n"
     ]
    }
   ],
   "source": [
    "PutDelta = bsmPutDelta(spot, strike, v, r, T, d)\n",
    "print(f\"The Value of the European Put Delta is: {PutDelta : 0.04f}\")"
   ]
  },
  {
   "cell_type": "markdown",
   "metadata": {},
   "source": [
    "## Simulated Path"
   ]
  },
  {
   "cell_type": "code",
   "execution_count": 45,
   "metadata": {},
   "outputs": [],
   "source": [
    "N = 11\n",
    "dt = 1.0/N\n",
    "z = np.random.normal(size=N)\n",
    "nudt = (r - d - 0.5 * v * v) * dt\n",
    "sigdt = (v * np.sqrt(dt))\n",
    "\n",
    "path = np.zeros(N)\n",
    "path[0] = spot\n",
    "\n",
    "for t in range(1,N):\n",
    "    path[t] = path[t-1] * np.exp(nudt + sigdt * z[t])"
   ]
  },
  {
   "cell_type": "markdown",
   "metadata": {},
   "source": [
    "## Marking to Market"
   ]
  },
  {
   "cell_type": "code",
   "execution_count": 46,
   "metadata": {},
   "outputs": [],
   "source": [
    "Put_prices = np.zeros(N)\n",
    "Put_prices[0] = PutPrc * 100\n",
    "\n",
    "for i in range(1, N):\n",
    "    Put_prices[i] = bsmPutPrice(path[i], strike, r, v, d, T - (i/365.0)) * 100"
   ]
  },
  {
   "cell_type": "code",
   "execution_count": 47,
   "metadata": {},
   "outputs": [],
   "source": [
    "Put_deltas = np.zeros(N)\n",
    "Put_deltas[0] = PutDelta * 100\n",
    "\n",
    "for i in range(1, N):\n",
    "    Put_deltas[i] = bsmPutDelta(path[i], strike, v, r, T - (i/365.0), d) * 100"
   ]
  },
  {
   "cell_type": "code",
   "execution_count": 48,
   "metadata": {},
   "outputs": [],
   "source": [
    "Investment = np.zeros(N)\n",
    "for i in range(N):\n",
    "    Investment[i] = Put_deltas[i] * path[i] - Put_prices[i]"
   ]
  },
  {
   "cell_type": "code",
   "execution_count": 49,
   "metadata": {},
   "outputs": [],
   "source": [
    "Interest = np.zeros(N)\n",
    "for i in range(1, N):\n",
    "    Interest[i] = -(r / 365.0) * Investment[i-1]"
   ]
  },
  {
   "cell_type": "code",
   "execution_count": 50,
   "metadata": {},
   "outputs": [],
   "source": [
    "Daily_profit = np.zeros(N)\n",
    "for i in range(1, N):\n",
    "    Daily_profit[i] = Put_deltas[i-1] * (path[i-1] - path[i]) + (Put_prices[i-1] - Put_prices[i]) - Interest[i]"
   ]
  },
  {
   "cell_type": "code",
   "execution_count": 51,
   "metadata": {},
   "outputs": [],
   "source": [
    "Capital_gain = np.zeros(N)\n",
    "for i in range(1, N):\n",
    "        Capital_gain[i] = Capital_gain[i-1] + Daily_profit[i]"
   ]
  },
  {
   "cell_type": "markdown",
   "metadata": {},
   "source": [
    "## Results"
   ]
  },
  {
   "cell_type": "code",
   "execution_count": 52,
   "metadata": {},
   "outputs": [],
   "source": [
    "Market_to_market = pd.DataFrame({'': ['Stock ($)', 'Put ($)', '100 x Delta', 'Investment ($)', 'Interest ($)', \\\n",
    "                                        'Capital gain ($)', 'Daily Profit ($)']})"
   ]
  },
  {
   "cell_type": "code",
   "execution_count": 53,
   "metadata": {},
   "outputs": [],
   "source": [
    "for i in range(N):\n",
    "    Market_to_market[i] = 1"
   ]
  },
  {
   "cell_type": "code",
   "execution_count": 54,
   "metadata": {},
   "outputs": [],
   "source": [
    "for i in range(N):\n",
    "    Market_to_market.loc[0, i] = round(path[i], 2)\n",
    "    Market_to_market.loc[1, i] = round(Put_prices[i], 2)\n",
    "    Market_to_market.loc[2, i] = round(Put_deltas[i], 2)\n",
    "    Market_to_market.loc[3, i] = round(Investment[i], 2)\n",
    "    Market_to_market.loc[4, i] = round(Interest[i], 2)\n",
    "    Market_to_market.loc[6, i] = round(Daily_profit[i], 2)\n",
    "    Market_to_market.loc[5, i] = round(Capital_gain[i], 2)"
   ]
  },
  {
   "cell_type": "code",
   "execution_count": 55,
   "metadata": {},
   "outputs": [
    {
     "data": {
      "text/html": [
       "<div>\n",
       "<style scoped>\n",
       "    .dataframe tbody tr th:only-of-type {\n",
       "        vertical-align: middle;\n",
       "    }\n",
       "\n",
       "    .dataframe tbody tr th {\n",
       "        vertical-align: top;\n",
       "    }\n",
       "\n",
       "    .dataframe thead th {\n",
       "        text-align: right;\n",
       "    }\n",
       "</style>\n",
       "<table border=\"1\" class=\"dataframe\">\n",
       "  <thead>\n",
       "    <tr style=\"text-align: right;\">\n",
       "      <th></th>\n",
       "      <th></th>\n",
       "      <th>0</th>\n",
       "      <th>1</th>\n",
       "      <th>2</th>\n",
       "      <th>3</th>\n",
       "      <th>4</th>\n",
       "      <th>5</th>\n",
       "      <th>6</th>\n",
       "      <th>7</th>\n",
       "      <th>8</th>\n",
       "      <th>9</th>\n",
       "      <th>10</th>\n",
       "    </tr>\n",
       "  </thead>\n",
       "  <tbody>\n",
       "    <tr>\n",
       "      <th>0</th>\n",
       "      <td>Stock ($)</td>\n",
       "      <td>40.00</td>\n",
       "      <td>46.32</td>\n",
       "      <td>49.48</td>\n",
       "      <td>51.24</td>\n",
       "      <td>42.26</td>\n",
       "      <td>42.79</td>\n",
       "      <td>38.27</td>\n",
       "      <td>39.42</td>\n",
       "      <td>36.87</td>\n",
       "      <td>37.90</td>\n",
       "      <td>39.20</td>\n",
       "    </tr>\n",
       "    <tr>\n",
       "      <th>1</th>\n",
       "      <td>Put ($)</td>\n",
       "      <td>199.05</td>\n",
       "      <td>42.07</td>\n",
       "      <td>16.35</td>\n",
       "      <td>9.11</td>\n",
       "      <td>116.74</td>\n",
       "      <td>101.69</td>\n",
       "      <td>276.63</td>\n",
       "      <td>218.43</td>\n",
       "      <td>358.55</td>\n",
       "      <td>295.13</td>\n",
       "      <td>226.00</td>\n",
       "    </tr>\n",
       "    <tr>\n",
       "      <th>2</th>\n",
       "      <td>100 x Delta</td>\n",
       "      <td>41.76</td>\n",
       "      <td>11.68</td>\n",
       "      <td>5.04</td>\n",
       "      <td>2.96</td>\n",
       "      <td>28.13</td>\n",
       "      <td>25.28</td>\n",
       "      <td>54.14</td>\n",
       "      <td>46.10</td>\n",
       "      <td>64.48</td>\n",
       "      <td>57.22</td>\n",
       "      <td>47.88</td>\n",
       "    </tr>\n",
       "    <tr>\n",
       "      <th>3</th>\n",
       "      <td>Investment ($)</td>\n",
       "      <td>1471.33</td>\n",
       "      <td>498.82</td>\n",
       "      <td>232.92</td>\n",
       "      <td>142.68</td>\n",
       "      <td>1071.91</td>\n",
       "      <td>980.09</td>\n",
       "      <td>1795.31</td>\n",
       "      <td>1598.74</td>\n",
       "      <td>2018.60</td>\n",
       "      <td>1873.43</td>\n",
       "      <td>1650.93</td>\n",
       "    </tr>\n",
       "    <tr>\n",
       "      <th>4</th>\n",
       "      <td>Interest ($)</td>\n",
       "      <td>0.00</td>\n",
       "      <td>-0.32</td>\n",
       "      <td>-0.11</td>\n",
       "      <td>-0.05</td>\n",
       "      <td>-0.03</td>\n",
       "      <td>-0.23</td>\n",
       "      <td>-0.21</td>\n",
       "      <td>-0.39</td>\n",
       "      <td>-0.35</td>\n",
       "      <td>-0.44</td>\n",
       "      <td>-0.41</td>\n",
       "    </tr>\n",
       "    <tr>\n",
       "      <th>5</th>\n",
       "      <td>Capital gain ($)</td>\n",
       "      <td>0.00</td>\n",
       "      <td>-106.50</td>\n",
       "      <td>-117.59</td>\n",
       "      <td>-119.20</td>\n",
       "      <td>-200.19</td>\n",
       "      <td>-199.81</td>\n",
       "      <td>-260.26</td>\n",
       "      <td>-263.64</td>\n",
       "      <td>-285.89</td>\n",
       "      <td>-288.50</td>\n",
       "      <td>-293.33</td>\n",
       "    </tr>\n",
       "    <tr>\n",
       "      <th>6</th>\n",
       "      <td>Daily Profit ($)</td>\n",
       "      <td>0.00</td>\n",
       "      <td>-106.50</td>\n",
       "      <td>-11.08</td>\n",
       "      <td>-1.61</td>\n",
       "      <td>-80.99</td>\n",
       "      <td>0.38</td>\n",
       "      <td>-60.45</td>\n",
       "      <td>-3.38</td>\n",
       "      <td>-22.25</td>\n",
       "      <td>-2.61</td>\n",
       "      <td>-4.83</td>\n",
       "    </tr>\n",
       "  </tbody>\n",
       "</table>\n",
       "</div>"
      ],
      "text/plain": [
       "                           0       1       2       3        4       5  \\\n",
       "0         Stock ($)    40.00   46.32   49.48   51.24    42.26   42.79   \n",
       "1           Put ($)   199.05   42.07   16.35    9.11   116.74  101.69   \n",
       "2       100 x Delta    41.76   11.68    5.04    2.96    28.13   25.28   \n",
       "3    Investment ($)  1471.33  498.82  232.92  142.68  1071.91  980.09   \n",
       "4      Interest ($)     0.00   -0.32   -0.11   -0.05    -0.03   -0.23   \n",
       "5  Capital gain ($)     0.00 -106.50 -117.59 -119.20  -200.19 -199.81   \n",
       "6  Daily Profit ($)     0.00 -106.50  -11.08   -1.61   -80.99    0.38   \n",
       "\n",
       "         6        7        8        9       10  \n",
       "0    38.27    39.42    36.87    37.90    39.20  \n",
       "1   276.63   218.43   358.55   295.13   226.00  \n",
       "2    54.14    46.10    64.48    57.22    47.88  \n",
       "3  1795.31  1598.74  2018.60  1873.43  1650.93  \n",
       "4    -0.21    -0.39    -0.35    -0.44    -0.41  \n",
       "5  -260.26  -263.64  -285.89  -288.50  -293.33  \n",
       "6   -60.45    -3.38   -22.25    -2.61    -4.83  "
      ]
     },
     "execution_count": 55,
     "metadata": {},
     "output_type": "execute_result"
    }
   ],
   "source": [
    "Market_to_market"
   ]
  },
  {
   "cell_type": "markdown",
   "metadata": {},
   "source": [
    "Though the market maker is selling shares short, they will still have to borrow those shares and pay interest on the amount borrowed. The market maker is going to be delta hedged, but not gamma hedged, and we can see this in the data since the market maker is losing money each day there is a large swing in either direction. Though the market maker does make a small profit on the days when there are only small movements in the stock, they are losing a large amount on each of the days with large changes, leading to a fairly significant loss over the life of the delta hedge.\n",
    "\n",
    "Obviously this is going to depend on the simulation, however I have looked at several different simulations, and they all end up negative for the market maker. This shows the importance of gamma."
   ]
  },
  {
   "cell_type": "markdown",
   "metadata": {},
   "source": [
    "<br>\n",
    "<br>\n",
    "\n",
    "**6.** The Black-Scholes-Merton (BSM) technique for deriving their famous formula was to conceive of an option market-maker delta hedging in continuous time. Check your intuition for this process by simulating the process and comparing the results to the Black-Scholes-Merton formula. Assume the parameters as above, except let $T = 1$ year and $\\mu = 10\\%$. Note that you must simulate asset prices under the real-world density (not the risk-neutral density). In the simulation let $h = \\frac{1}{365}$, and $M = 10,000$ replications. Use the same geometric Brownian motion process as above and make sure to check for terminal exercise. The average cost of hedging should approximate the BSM price. Compare the delta-hedging simulation results to the theoretical results from the BSM model. (See McDonald Chapters 13 & 19).\n",
    "\n",
    "<br>\n",
    "\n",
    "*Note:* if you find this exercise challenging, just think of the single-period binomial model $C = \\Delta S + B$. You won't actually use this model directly (you will use the BSM delta instead), but it should give you inspiration.\n",
    "\n",
    "<br>\n",
    "<br>"
   ]
  },
  {
   "cell_type": "code",
   "execution_count": 75,
   "metadata": {},
   "outputs": [],
   "source": [
    "spot = 40.0\n",
    "strike = 40.0\n",
    "mu = 0.10\n",
    "v = 0.30\n",
    "T = 365.0 / 365.0\n",
    "d = 0.0\n",
    "m = 10000\n",
    "n = 365\n",
    "h = T / n"
   ]
  },
  {
   "cell_type": "code",
   "execution_count": 76,
   "metadata": {},
   "outputs": [],
   "source": [
    "def AssetPaths(spot, mu, sigma, expiry, div, nreps, nsteps):\n",
    "    paths = np.empty((nreps, nsteps + 1))\n",
    "    h = expiry / nsteps\n",
    "    paths[:, 0] = spot\n",
    "    mudt = (mu - div - 0.5 * sigma * sigma) * h\n",
    "    sigmadt = sigma * np.sqrt(h)\n",
    "    \n",
    "    for t in range(1, nsteps + 1):\n",
    "        z = np.random.normal(size=nreps)\n",
    "        paths[:, t] = paths[:, t-1] * np.exp(mudt + sigmadt * z)\n",
    "\n",
    "    return paths"
   ]
  },
  {
   "cell_type": "code",
   "execution_count": 77,
   "metadata": {},
   "outputs": [],
   "source": [
    "def deltaHedging(S, K, mu, sigma, r, T, paths):\n",
    "    m, n = paths.shape\n",
    "    cost = np.zeros(m)\n",
    "    cashFlows = np.zeros(n)\n",
    "    h = T / n\n",
    "    df = np.exp(-r * np.arange(n) * h)\n",
    "    tau = T - np.arange(n) * h\n",
    "    \n",
    "    for k in range(m):\n",
    "        path = paths[k]\n",
    "        position = 0.0\n",
    "        deltas = bsmPutDelta(path, K, v, r, T, d)\n",
    "        \n",
    "        for t in range(n):\n",
    "            cashFlows[t] = (position - deltas[t]) * path[t]\n",
    "            position = deltas[t]\n",
    "            \n",
    "        if (path[-1] <= K):\n",
    "            cashFlows[-1] = K - (1 - position) * path[-1]\n",
    "        else:\n",
    "            cashFlows[-1] = position * path[-1]\n",
    "        \n",
    "        cost[k] = np.dot(df, cashFlows)\n",
    "        \n",
    "    return np.mean(cost)"
   ]
  },
  {
   "cell_type": "code",
   "execution_count": 78,
   "metadata": {},
   "outputs": [
    {
     "name": "stdout",
     "output_type": "stream",
     "text": [
      "The BSM Put Price is:  3.2092\n",
      "The Delta-Hedging Monte Carlo Put Price is:  3.2090\n"
     ]
    }
   ],
   "source": [
    "paths = AssetPaths(spot, mu, v, T, d, m, n)\n",
    "delHdgPrc = deltaHedging(spot, strike, mu, v, r, T, paths)\n",
    "bsmPrc = bsmPutPrice(spot, strike, r, v, d, T)\n",
    "print(f\"The BSM Put Price is: {bsmPrc : 0.4f}\")\n",
    "print(f\"The Delta-Hedging Monte Carlo Put Price is: {delHdgPrc : 0.4f}\")"
   ]
  },
  {
   "cell_type": "markdown",
   "metadata": {},
   "source": [
    "## Brief Essay Problems\n",
    "\n",
    "\n",
    "<br>\n",
    "<br>"
   ]
  },
  {
   "cell_type": "markdown",
   "metadata": {},
   "source": [
    "**7.** According to Christopher Culp \"... it becomes quite hard to explain a lot of financial and derivatives market activity without being a little bit Austrian.\" Discuss this statement in the context of the delta-hedging process of the option market-maker. You may also want to reference the Enron (Culp & Hanke) and Metallgesellschaft (Culp & Miller) cases and the citations therein. "
   ]
  },
  {
   "cell_type": "markdown",
   "metadata": {},
   "source": [
    "_Your answer goes here._"
   ]
  },
  {
   "cell_type": "code",
   "execution_count": null,
   "metadata": {},
   "outputs": [],
   "source": []
  }
 ],
 "metadata": {
  "kernelspec": {
   "display_name": "Python 3",
   "language": "python",
   "name": "python3"
  },
  "language_info": {
   "codemirror_mode": {
    "name": "ipython",
    "version": 3
   },
   "file_extension": ".py",
   "mimetype": "text/x-python",
   "name": "python",
   "nbconvert_exporter": "python",
   "pygments_lexer": "ipython3",
   "version": "3.6.5"
  }
 },
 "nbformat": 4,
 "nbformat_minor": 2
}
