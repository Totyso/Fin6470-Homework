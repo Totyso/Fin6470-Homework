{
 "cells": [
  {
   "cell_type": "code",
   "execution_count": 1,
   "metadata": {},
   "outputs": [],
   "source": [
    "# 2\n",
    "\n",
    "# Use Augmented DF to conduct tests to look for unit-roots in price series\n",
    "# Time period of MGRM\n",
    "# 4 different graphs or 2 different, whichever works\n",
    "# Label axes, make sure we know what's going on\n",
    "\n",
    "# Part e\n",
    "\n",
    "# Rolling hedge - each day will have lookback period of 60 days\n",
    "# Each day the 60-day period will roll through, and each day you will obtain a new hedge ratio, then plot each hedge ratio\n",
    "# This is Perrong's paper\n",
    "# We should find it is very dynamic, not stable\n",
    "# Perrong has a point about the dynamic nature of the minimum variance hedge ratio\n",
    "# Have in mind MGRM's 1 to 1 hedge ratio"
   ]
  },
  {
   "cell_type": "code",
   "execution_count": 2,
   "metadata": {},
   "outputs": [],
   "source": [
    "# 3\n",
    "\n",
    "# Simulate from Bollen and Whaley\n",
    "# Simulate spot prices from the model in paper\n",
    "# Use parameters from Bullen and Whaley's table for alpha, beta and epsilon\n",
    "# Simulate Basis from next equation, and simulate futures from no arbitrage formula from Question 1\n",
    "# What are they forcing? Equilibrium prices. What's an alternative? Equilibrium-like model with disequilibrium.\n",
    "# Can you simulate from an error-correction model?\n",
    "# If you were Culp and Miller how would you do this?\n",
    "# In this paper they use the closest future as their spot price. Comment on this.\n",
    "# They estimate these equations by simultaneous maximum likelihood. Take these estimates as written, simulate 45 days.\n",
    "\n",
    "# Part C\n",
    "# Code given in notebook to do mark to market mechanics.\n",
    "\n",
    "# We aren't doing exactly what MGRM is doing with our hedge for part d.\n",
    "# Either for or against for part e, but have a good explanation.\n",
    "# The basis should just be the spread. use F_i,t = S_i,t * e^bi,t"
   ]
  },
  {
   "cell_type": "code",
   "execution_count": 3,
   "metadata": {},
   "outputs": [],
   "source": [
    "# 4\n",
    "\n",
    "# Differences between forwards and futures\n",
    "# Williams paper\n",
    "# Chapter 5 Mcdonald - Neoclassical perspective\n",
    "# Williams wants to say that these markets have been in existence for a long time, essentially no difference between futures and forwards\n",
    "# Comment on Clearinghouse"
   ]
  },
  {
   "cell_type": "code",
   "execution_count": 4,
   "metadata": {},
   "outputs": [],
   "source": [
    "# 5\n",
    "\n",
    "# Don't use Johansen or Perrong, use Engle-Granger. Comment on these.\n",
    "# If you were an investor would you invest? Why or why not?\n",
    "# What does Bayes rule have to do with this question? Would it move your prior? What would you be looking at? Enough evidence on predictive density?\n",
    "# Enron reading important here, especially the discussion on Knight-read this as well\n",
    "# Working paper important\n",
    "\n",
    "# Part B\n",
    "# What is the disagreement? What are the perspectives of equilibrium? Is it coming down to symantics? Especially about loss function Culp and Miller\n",
    "    # are assuming\n",
    "\n",
    "# Lecturing birds on flying"
   ]
  },
  {
   "cell_type": "code",
   "execution_count": 5,
   "metadata": {},
   "outputs": [],
   "source": [
    "# 7\n",
    "\n",
    "# Relate to Hayek's notion of price information\n",
    "# Choose one of the papers and comment on in\n",
    "# Extra credit for both"
   ]
  },
  {
   "cell_type": "code",
   "execution_count": 6,
   "metadata": {},
   "outputs": [],
   "source": [
    "# 8\n",
    "\n",
    "# Small hedge fund run by Quintana. From Duke's stats department which is hardcore Bayesian. Trades in Chicago markets.\n",
    "# They treat the futures market as a single Bayesian market maker. Can you bet against this market maker?"
   ]
  },
  {
   "cell_type": "code",
   "execution_count": 7,
   "metadata": {},
   "outputs": [],
   "source": [
    "# 9\n",
    "\n",
    "# Look at innovation in derivatives markets.\n",
    "# For weather, you can't trade the underlying, just derivatives. Does no arbitrage exist?\n",
    "# Pick one and discuss it. Invent a market and why it would be beneficial."
   ]
  },
  {
   "cell_type": "markdown",
   "metadata": {},
   "source": [
    "__1. In class we stated that the equilibrium price of a forward contract should behave  according  to  the  formula $F_0=S_0e^{rT}$.   Demonstrate  that  this  is true  using  the  arbitrage  principle.   Assume  that  you  are  dealing  with  an investment asset that pays no dividends unless stated otherwise. Specifically, answer the following:__"
   ]
  },
  {
   "cell_type": "markdown",
   "metadata": {},
   "source": [
    "__(a) Suppose $F_0 > S_0e^{rT}$.  Does this imply an arbitrage opportunity? Explain.__"
   ]
  },
  {
   "cell_type": "markdown",
   "metadata": {},
   "source": [
    "Yes, there would be an arbitrage opportunity in the market. Since the forward and spot contracts are both on the same underlying asset, if there were some slight disequilibrium in the pricing of the two contracts, there would be an opportunity for arbitrage.\n",
    "\n",
    "More specifically, in this example, one could simply sell a forward contract at time=0, and use the proceeds to buy the underlying in the spot market. At time=T, what was purchased at the spot price will be delivered to the buyer of the forward contract, realizing a profit due to arbitrage."
   ]
  },
  {
   "cell_type": "markdown",
   "metadata": {},
   "source": [
    "__(b)  Now suppose $F_0 < S_0e^{rT}$.  Does this imply an arbitrage opportunity? Explain.__"
   ]
  },
  {
   "cell_type": "markdown",
   "metadata": {},
   "source": [
    "Yes, there would again be an arbitrage opportunity, for the same reason stated in part (a).\n",
    "\n",
    "This time, one could sell (short) the underlying in the spot market at time=0, and use the proceeds to buy a forward contract. At time=T, you would collect the underlying from the forward contract and return it to close out the short position, realizing a profit."
   ]
  },
  {
   "cell_type": "markdown",
   "metadata": {},
   "source": [
    "__(c)  Now assume that you are dealing with either a dividend-paying asset in the form of discrete dollar dividend payments, or a continuous dividend yield.  How does this change the pricing equation?  Explain.__"
   ]
  },
  {
   "cell_type": "markdown",
   "metadata": {},
   "source": [
    "With continuous dividends, the formula becomes $F_0=S_0e^{(r- \\delta) T}$, where $\\delta$ is the dividend yield. This is becuase the price of the forward must include a provision for dividends, since the forward contract holder will not collect the dividends, and thus must pay less for the contract."
   ]
  },
  {
   "cell_type": "markdown",
   "metadata": {},
   "source": [
    "__(d)  Now assume that you are dealing with a consumption commodity with storage  costs,  and  that  holding  the  physical  commodity  has  certain benefits (i.e.  a convenience yield).  How does this change the pricing equation?  Explain.__"
   ]
  },
  {
   "cell_type": "markdown",
   "metadata": {},
   "source": [
    "The equation will be just as in part (c), $F_0=S_0e^{(r- \\delta) T}$, where $\\delta$ is the convenience yield. As in part (c), the holder of the physical commodity has the ability to use the commodity as needed, which is why they pay a convenience yield that acts similarly to a dividend with a stock, and the forward contract holder will pay less for the contract as they are giving up this convenience yield."
   ]
  },
  {
   "cell_type": "markdown",
   "metadata": {},
   "source": [
    "__(e)  In  class  we  argued  that  all  of  this  depends  upon  the  possibility  of physical  delivery  of  the  contract,  which  guarantees  that $F_T=S_T$,that is that the futures price at maturity is equal to the spot price at maturity.  First, explain why that is.  Second, what would happen if $F_T \\neq S_T$?  Carefully explain.__"
   ]
  },
  {
   "cell_type": "markdown",
   "metadata": {},
   "source": [
    "At time=T, $F_T=S_T$ must hold because the two trades would be exact substitutes for eachother. In other words, at expiry the futures contract now behaves exactly like a spot trade, as the time to expiry is 0. If this is not the case, there would be a very quick and easy arbitrage opportunity. One could simply sell the overpriced contract and use the proceeds to buy the underpriced contract, making a profit at time=T with no risk and infinite upside. This would occur until supply and demand forced the two to return to equilibrium."
   ]
  },
  {
   "cell_type": "markdown",
   "metadata": {},
   "source": [
    "__(f) Consider a new kind of forward contract called a prepaid forward.  It is very similar to a standard forward contract.  The only difference is that the long party pays the short party at time $t=0$, but still takes delivery from the short party at $t=T$.  How must the standard pricing formula be modified to properly price the prepaid forward?  Carefully explain your logic.  Why would anyone ever want to transact in such a contract?  Do we actually see prepaid forward contracts in the real world, or only in finance textbooks?__"
   ]
  },
  {
   "cell_type": "markdown",
   "metadata": {},
   "source": [
    "A normal forward price is shown to be the future value of the spot price, since that is when money will be collected. Since a prepaid forward contract seller collects the proceeds at time=0, the price of the prepaid forward contract is simply $F^P_{0,T}=S_0$. The holder of the prepaid contract will however also not collect dividends paid, so if a discrete dividend were introduced, the formula will change to $F^P_{0,T}=S_0 - \\Sigma^n_{i=1} PV_0 D_{t_i}$, and with continuous dividends $F^P_{0,T}=S_0e^{-\\delta T}$."
   ]
  },
  {
   "cell_type": "markdown",
   "metadata": {},
   "source": [
    "__2. In the Midterm folder on Canvas there is a subfolder titled Data.  In it you will find historical nearby daily settlement futures prices as well as daily New York Harbor spot prices for WTI Crude Oil for the period 01/01/1992 to 12/31/1993.  Using these data answer the following questions:__"
   ]
  },
  {
   "cell_type": "markdown",
   "metadata": {},
   "source": [
    "__(a)  Test the series for unit roots using the Augmented Dickey-Fuller test. Conduct the tests for prices in levels, and first price differences.  Also conduct the test in log-price levels and log-price first differences.  What do  you  conclude?   Do  any  of  the  series  contain  a  unit  root?   Which ones?  Are the results what you expected, or did they surprise you?__"
   ]
  },
  {
   "cell_type": "code",
   "execution_count": null,
   "metadata": {},
   "outputs": [],
   "source": [
    "import numpy as np\n",
    "import pandas as pd\n"
   ]
  },
  {
   "cell_type": "markdown",
   "metadata": {},
   "source": [
    "__(b)  Make  time  series  plots  of  the  series  in  price  levels,  first  differences, log-price levels, and log-price first differences.__"
   ]
  },
  {
   "cell_type": "code",
   "execution_count": null,
   "metadata": {},
   "outputs": [],
   "source": []
  },
  {
   "cell_type": "markdown",
   "metadata": {},
   "source": [
    "__(c)  Carry  out  the  Engle-Granger  two-step  procedure  to  test  for  cointegration  between  the  series?   What  are  the  results?   Are  the  series cointegrated?   If so,  what  is the  cointegrating  vector?  Carefully explain.__"
   ]
  },
  {
   "cell_type": "code",
   "execution_count": null,
   "metadata": {},
   "outputs": [],
   "source": []
  },
  {
   "cell_type": "markdown",
   "metadata": {},
   "source": [
    "__(d)  Make a plot of the estimated residuals and comment on the graph as relates to the issue of of cointegration.__"
   ]
  },
  {
   "cell_type": "code",
   "execution_count": null,
   "metadata": {},
   "outputs": [],
   "source": []
  },
  {
   "cell_type": "markdown",
   "metadata": {},
   "source": [
    "__(e)  Using  linear  regression  calculate  a  rolling  minimum-variance  hedge ratio for each day of 1993 based on 60 prior days observations.  Plot a time-series of the hedge-ratios.  Comment on the nature of the plotted series.  What does this say about the dynamic stability of the hedge ratio?__"
   ]
  },
  {
   "cell_type": "code",
   "execution_count": null,
   "metadata": {},
   "outputs": [],
   "source": []
  }
 ],
 "metadata": {
  "kernelspec": {
   "display_name": "Python 3",
   "language": "python",
   "name": "python3"
  },
  "language_info": {
   "codemirror_mode": {
    "name": "ipython",
    "version": 3
   },
   "file_extension": ".py",
   "mimetype": "text/x-python",
   "name": "python",
   "nbconvert_exporter": "python",
   "pygments_lexer": "ipython3",
   "version": "3.6.5"
  }
 },
 "nbformat": 4,
 "nbformat_minor": 2
}
