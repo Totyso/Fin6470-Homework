{
 "cells": [
  {
   "cell_type": "markdown",
   "metadata": {},
   "source": [
    "# __Finance 6470: Final Exam__\n",
    "\n",
    "<br>\n",
    "\n",
    "Finance 6470: Derivatives Markets <br>\n",
    "Tyler J. Brough <br>\n",
    "Last Updated: April 11, 2019 <br>\n",
    "<br>\n",
    "<br>"
   ]
  },
  {
   "cell_type": "markdown",
   "metadata": {},
   "source": [
    "## Numerical Workout Problems"
   ]
  },
  {
   "cell_type": "markdown",
   "metadata": {},
   "source": [
    "<br>\n",
    "\n",
    "\n",
    "**1.** Let $S = \\$100$, $K = \\$95$, $r = 8\\%$ (continuously compounded), $\\sigma = 30\\%$, $\\delta = 0$, $T = 1$ year, and $n = 3$ (binomial periods).\n",
    "  \n",
    "* What is the price for an American call option?\n",
    "* What is the price for a European call option? What do you conclude about early exercise for the American call option?\n",
    "* What is the price for a European put option? Is put-call parity satisfied?\n",
    "* What is the price for an America put option?\n",
    "\n",
    "<br>"
   ]
  },
  {
   "cell_type": "markdown",
   "metadata": {},
   "source": [
    "## American Call"
   ]
  },
  {
   "cell_type": "code",
   "execution_count": 8,
   "metadata": {},
   "outputs": [
    {
     "name": "stdout",
     "output_type": "stream",
     "text": [
      "The call price via American Binomial is: 18.283\n"
     ]
    }
   ],
   "source": [
    "from probo.marketdata import MarketData\n",
    "from probo.payoff import VanillaPayoff, call_payoff, put_payoff\n",
    "from probo.engine import BinomialPricingEngine, AmericanBinomialPricer \n",
    "from probo.facade import OptionFacade\n",
    "\n",
    "## Set up the market data\n",
    "spot = 100.0\n",
    "rate = 0.08\n",
    "volatility = 0.30\n",
    "dividend = 0.0\n",
    "thedata = MarketData(rate, spot, volatility, dividend)\n",
    "\n",
    "## Set up the option\n",
    "expiry = 1.0 \n",
    "strike = 95.0\n",
    "thecall = VanillaPayoff(expiry, strike, call_payoff)\n",
    "theput = VanillaPayoff(expiry, strike, put_payoff)\n",
    "\n",
    "## Set up the European Binomial pricer\n",
    "steps = 3 \n",
    "pricer = AmericanBinomialPricer\n",
    "binomengine = BinomialPricingEngine(steps, pricer) \n",
    "\n",
    "## Calculate the price\n",
    "option1 = OptionFacade(thecall, binomengine, thedata)\n",
    "price1 = option1.price()\n",
    "print(\"The call price via American Binomial is: {0:.3f}\".format(price1))"
   ]
  },
  {
   "cell_type": "markdown",
   "metadata": {},
   "source": [
    "## European Call"
   ]
  },
  {
   "cell_type": "code",
   "execution_count": 9,
   "metadata": {},
   "outputs": [
    {
     "name": "stdout",
     "output_type": "stream",
     "text": [
      "The call price via European Binomial is: 18.283\n"
     ]
    }
   ],
   "source": [
    "from probo.engine import EuropeanBinomialPricer\n",
    "\n",
    "## Set up the European Binomial pricer\n",
    "steps = 3 \n",
    "pricer = EuropeanBinomialPricer\n",
    "binomengine = BinomialPricingEngine(steps, pricer) \n",
    "\n",
    "## Calculate the price\n",
    "option1 = OptionFacade(thecall, binomengine, thedata)\n",
    "price1 = option1.price()\n",
    "print(\"The call price via European Binomial is: {0:.3f}\".format(price1))"
   ]
  },
  {
   "cell_type": "markdown",
   "metadata": {},
   "source": [
    "Since there is no dividend in the problem, the price of the American call and European call will be equivalent, meaning there is absolutely no value to the early exercise option in the American call."
   ]
  },
  {
   "cell_type": "markdown",
   "metadata": {},
   "source": [
    "## European Put"
   ]
  },
  {
   "cell_type": "code",
   "execution_count": 10,
   "metadata": {},
   "outputs": [
    {
     "name": "stdout",
     "output_type": "stream",
     "text": [
      "The put price via European Binomial is: 5.979\n"
     ]
    }
   ],
   "source": [
    "option2 = OptionFacade(theput, binomengine, thedata)\n",
    "price2 = option2.price()\n",
    "print(\"The put price via European Binomial is: {0:.3f}\".format(price2))"
   ]
  },
  {
   "cell_type": "markdown",
   "metadata": {},
   "source": [
    "## Forward Contract"
   ]
  },
  {
   "cell_type": "code",
   "execution_count": 15,
   "metadata": {},
   "outputs": [
    {
     "data": {
      "text/plain": [
       "108.32870676749586"
      ]
     },
     "execution_count": 15,
     "metadata": {},
     "output_type": "execute_result"
    }
   ],
   "source": [
    "import numpy as np\n",
    "\n",
    "forward = spot * np.exp(rate * expiry)\n",
    "forward"
   ]
  },
  {
   "cell_type": "markdown",
   "metadata": {},
   "source": [
    "Put-Call Parity = Call - Put = Discount * (Forward - Strike)"
   ]
  },
  {
   "cell_type": "code",
   "execution_count": 17,
   "metadata": {},
   "outputs": [
    {
     "data": {
      "text/plain": [
       "12.303947093269588"
      ]
     },
     "execution_count": 17,
     "metadata": {},
     "output_type": "execute_result"
    }
   ],
   "source": [
    "Call_Minus_Put = price1 - price2\n",
    "Call_Minus_Put"
   ]
  },
  {
   "cell_type": "code",
   "execution_count": 24,
   "metadata": {},
   "outputs": [
    {
     "data": {
      "text/plain": [
       "12.303947093269604"
      ]
     },
     "execution_count": 24,
     "metadata": {},
     "output_type": "execute_result"
    }
   ],
   "source": [
    "Disc_Forward_Minus_Strike = (forward - strike) * np.exp(-rate * expiry)\n",
    "Disc_Forward_Minus_Strike"
   ]
  },
  {
   "cell_type": "code",
   "execution_count": 31,
   "metadata": {},
   "outputs": [
    {
     "data": {
      "text/plain": [
       "-0.0"
      ]
     },
     "execution_count": 31,
     "metadata": {},
     "output_type": "execute_result"
    }
   ],
   "source": [
    "round(Call_Minus_Put - Disc_Forward_Minus_Strike)"
   ]
  },
  {
   "cell_type": "markdown",
   "metadata": {},
   "source": [
    "Put-Call parity holds."
   ]
  },
  {
   "cell_type": "markdown",
   "metadata": {},
   "source": [
    "## American Put"
   ]
  },
  {
   "cell_type": "code",
   "execution_count": 32,
   "metadata": {},
   "outputs": [
    {
     "name": "stdout",
     "output_type": "stream",
     "text": [
      "The put price via American Binomial is: 5.979\n"
     ]
    }
   ],
   "source": [
    "option2 = OptionFacade(theput, binomengine, thedata)\n",
    "price2 = option2.price()\n",
    "print(\"The put price via American Binomial is: {0:.3f}\".format(price2))"
   ]
  },
  {
   "cell_type": "markdown",
   "metadata": {},
   "source": [
    "**2.** Make the same assumptions as in the previous problem, except let $\\delta = 0.03$.\n",
    "\n",
    "* Price an American call option with $n = 200$ binomial periods. \n",
    "* Now price a European call option using the Black-Scholes-Merton model.\n",
    "* Compare the different results. \n",
    "\n",
    "<br>"
   ]
  },
  {
   "cell_type": "markdown",
   "metadata": {},
   "source": [
    "## American Call"
   ]
  },
  {
   "cell_type": "code",
   "execution_count": 44,
   "metadata": {},
   "outputs": [
    {
     "name": "stdout",
     "output_type": "stream",
     "text": [
      "The call price via American Binomial is: 18.382\n"
     ]
    }
   ],
   "source": [
    "## Set up the market data\n",
    "spot = 100.0\n",
    "rate = 0.08\n",
    "volatility = 0.30\n",
    "dividend = 0.03\n",
    "thedata = MarketData(rate, spot, volatility, dividend)\n",
    "\n",
    "## Set up the option\n",
    "expiry = 1.0 \n",
    "strike = 95.0\n",
    "thecall = VanillaPayoff(expiry, strike, call_payoff)\n",
    "theput = VanillaPayoff(expiry, strike, put_payoff)\n",
    "\n",
    "## Set up the European Binomial pricer\n",
    "steps = 200\n",
    "pricer = AmericanBinomialPricer\n",
    "binomengine = BinomialPricingEngine(steps, pricer) \n",
    "\n",
    "## Calculate the price\n",
    "option1 = OptionFacade(thecall, binomengine, thedata)\n",
    "price1 = option1.price()\n",
    "print(\"The call price via American Binomial is: {0:.3f}\".format(price1))"
   ]
  },
  {
   "cell_type": "markdown",
   "metadata": {},
   "source": [
    "Though there is now a dividend involved, there is still no value to the early exercise option of the American call."
   ]
  },
  {
   "cell_type": "markdown",
   "metadata": {},
   "source": [
    "## European Call via Black-Scholes"
   ]
  },
  {
   "cell_type": "code",
   "execution_count": 42,
   "metadata": {},
   "outputs": [
    {
     "name": "stdout",
     "output_type": "stream",
     "text": [
      "The call price via Black-Scholes is: 16.305\n"
     ]
    }
   ],
   "source": [
    "## Set up the European Binomial pricer\n",
    "pricer = EuropeanBinomialPricer\n",
    "binomengine = BinomialPricingEngine(steps, pricer) \n",
    "\n",
    "## Set up the Black-Scholes pricer\n",
    "bsengine = BlackScholesPricingEngine(\"call\", BlackScholesPricer)\n",
    "option3 = OptionFacade(thecall, bsengine, thedata)\n",
    "price3 = option3.price()\n",
    "print(\"The call price via Black-Scholes is: {0:.3f}\".format(price3))"
   ]
  },
  {
   "cell_type": "markdown",
   "metadata": {},
   "source": [
    "The black scholes price is much different than the price via binomial pricing, even with 200 steps. In fact, there is almost a $2 difference in the premium computed via the 2 differing models."
   ]
  },
  {
   "cell_type": "markdown",
   "metadata": {},
   "source": [
    "## Computational Problems"
   ]
  },
  {
   "cell_type": "markdown",
   "metadata": {},
   "source": [
    "**3.** The binomial model of underlying asset price dynamics is given as follows (see McDonald Chapter 11):\n",
    "\n",
    "$$\n",
    "S_{t+h} = S_{t} e^{(r - \\delta)h \\pm \\sigma\\sqrt{h}}\n",
    "$$\n",
    "Assume the following data and parameters are given:\n",
    "\n",
    "* $S_{0} = \\$100$\n",
    "* $r = 6\\%$ \n",
    "* $\\sigma = 30\\%$\n",
    "* $T = 5$ years\n",
    "* $h = 0.01$\n",
    "\n",
    "<br>\n",
    "\n",
    "Simulate 500 steps in a path and plot the results below.\n",
    "\n",
    "<br>"
   ]
  },
  {
   "cell_type": "code",
   "execution_count": 184,
   "metadata": {},
   "outputs": [
    {
     "data": {
      "image/png": "[encoded data removed]",
      "text/plain": [
       "<Figure size 432x288 with 1 Axes>"
      ]
     },
     "metadata": {},
     "output_type": "display_data"
    }
   ],
   "source": [
    "# Simulate Returns\n",
    "\n",
    "import pandas as pd\n",
    "import matplotlib.pyplot as plt\n",
    "\n",
    "spot = 100\n",
    "r = 0.06\n",
    "v = 0.3\n",
    "T = 5\n",
    "h = 0.01\n",
    "d = 0.0\n",
    "steps = 500\n",
    "\n",
    "u = np.exp((r - d) * h + v * np.sqrt(h))\n",
    "d = np.exp((r - d) * h - v * np.sqrt(h))\n",
    "p = (np.exp((r - d) * h) - d) / (u - d)\n",
    "a = np.random.uniform(size=steps)\n",
    "\n",
    "path = np.empty(steps)\n",
    "path[0] = spot\n",
    "\n",
    "for i in range(1, steps):\n",
    "    if a[i] > 0.5:\n",
    "        path[i] = path[i - 1] * u\n",
    "    else:\n",
    "        path[i] = path[i - 1] * d\n",
    "path = pd.Series(path)\n",
    "path.plot();"
   ]
  },
  {
   "cell_type": "markdown",
   "metadata": {},
   "source": [
    "<br>\n",
    "<br>\n",
    "\n",
    "Now repeat this process 1,000 times and store only the resulting terminal price for each simulated path. Plot a histogram for these resulting terminal prices. Comment on the shape of the histogram. \n",
    "\n",
    "<br>\n",
    "<br>"
   ]
  },
  {
   "cell_type": "code",
   "execution_count": 185,
   "metadata": {},
   "outputs": [],
   "source": [
    "## Histogram of terminal prices \n",
    "\n",
    "path = np.empty(steps)\n",
    "path[0] = spot\n",
    "reps = 1000\n",
    "terminal = np.empty(reps)\n",
    "\n",
    "for j in range(reps):\n",
    "    a = np.random.uniform(size=steps)\n",
    "    for i in range(1, steps):\n",
    "        a = np.random.rand()\n",
    "        if a > 0.5:\n",
    "            path[i] = path[i - 1] * u\n",
    "        else:\n",
    "            path[i] = path[i - 1] * d\n",
    "    terminal[j] = path[-1]"
   ]
  },
  {
   "cell_type": "code",
   "execution_count": 138,
   "metadata": {},
   "outputs": [
    {
     "data": {
      "image/png": "[encoded data removed]",
      "text/plain": [
       "<Figure size 432x288 with 1 Axes>"
      ]
     },
     "metadata": {},
     "output_type": "display_data"
    }
   ],
   "source": [
    "plt.hist(terminal, bins=50);"
   ]
  },
  {
   "cell_type": "markdown",
   "metadata": {},
   "source": [
    "The histogram has a large concentration between 0 and 200, since most of the simulations will not result in extreme returns. The spot price can not go negative, however, so the distribution is right skewed because of the possibility of extreme positive returns."
   ]
  },
  {
   "cell_type": "markdown",
   "metadata": {},
   "source": [
    "**4.** Now let's rearrange this original formula into a statment about returns (see McDonald Chapter 11).\n",
    "\n",
    "$$\n",
    "\\ln{\\left(S_{t+h} / S_{t}\\right)} = (r - \\delta)h \\pm \\sigma\\sqrt{h}\n",
    "$$\n",
    "\n",
    "<br>\n",
    "<br>\n",
    "\n",
    "Similar to the exercise above simulate a sample path with 500 steps and make a plot. Also, simulate the process 1,000 times keeping only the terminal return. Make a histogram of the resulting simulated terminal returns. Comment on the shape of the histogram. \n",
    "\n",
    "<br>"
   ]
  },
  {
   "cell_type": "code",
   "execution_count": 188,
   "metadata": {},
   "outputs": [
    {
     "data": {
      "image/png": "[encoded data removed]",
      "text/plain": [
       "<Figure size 432x288 with 1 Axes>"
      ]
     },
     "metadata": {},
     "output_type": "display_data"
    }
   ],
   "source": [
    "## Simulate returns\n",
    "\n",
    "spot = 100\n",
    "r = 0.06\n",
    "v = 0.3\n",
    "T = 5\n",
    "h = 0.01\n",
    "d = 0.0\n",
    "steps = 500\n",
    "\n",
    "u = (r - d) * h + v * np.sqrt(h)\n",
    "d = (r - d) * h - v * np.sqrt(h)\n",
    "a = np.random.uniform(size=steps)\n",
    "\n",
    "returns = np.empty(steps)\n",
    "\n",
    "for i in range(0, steps):\n",
    "    if a[i] > 0.5:\n",
    "        returns[i] = u\n",
    "    else:\n",
    "        returns[i] = d\n",
    "returns = pd.Series(returns)\n",
    "returns.plot();"
   ]
  },
  {
   "cell_type": "code",
   "execution_count": 191,
   "metadata": {},
   "outputs": [],
   "source": [
    "## Histogram of terminal prices \n",
    "\n",
    "returns = np.empty(steps)\n",
    "reps = 1000\n",
    "terminal = np.empty(reps)\n",
    "\n",
    "for j in range(reps):\n",
    "    a = np.random.uniform(size=steps)\n",
    "    for i in range(0, steps):\n",
    "        for i in range(0, steps):\n",
    "            if a[i] > 0.5:\n",
    "                returns[i] = u\n",
    "            else:\n",
    "                returns[i] = d\n",
    "    terminal[j] = returns[-1]"
   ]
  },
  {
   "cell_type": "code",
   "execution_count": 193,
   "metadata": {},
   "outputs": [
    {
     "data": {
      "image/png": "[encoded data removed]",
      "text/plain": [
       "<Figure size 432x288 with 1 Axes>"
      ]
     },
     "metadata": {},
     "output_type": "display_data"
    }
   ],
   "source": [
    "plt.hist(terminal, bins=50);"
   ]
  },
  {
   "cell_type": "markdown",
   "metadata": {},
   "source": [
    "Since there are 2 possible return results, the histogram is just 2 bars in either the positive result or negative result."
   ]
  },
  {
   "cell_type": "markdown",
   "metadata": {},
   "source": [
    "**5.** The Black-Scholes-Merton model assumes that the underlying asset price follows geometric Brownian motion as follows:\n",
    "\n",
    "<br>\n",
    "\n",
    "$$\n",
    "S_{t+h} = S_{t} e^{(r - \\delta - \\frac{1}{2}\\sigma^{2})h + \\sigma \\sqrt{h} Z}\n",
    "$$\n",
    "where $Z \\sim N(0,1)$. Assume the following:\n",
    "\n",
    "* $S_{0} = \\$40.0$\n",
    "* $K = \\$40.0$\n",
    "* $r = 8\\%$\n",
    "* $\\sigma = 30\\%$\n",
    "* $T = 91/365$ days\n",
    "* $\\delta = 0.0$\n",
    "\n",
    "<br>\n",
    "\n",
    "Simulate prices for 10 days and calculate mark-to-market profits/losses for the delta-hedged position on a written put option. Explain the results.\n",
    "\n",
    "<br>"
   ]
  },
  {
   "cell_type": "code",
   "execution_count": 197,
   "metadata": {},
   "outputs": [],
   "source": [
    "spot = 40.0\n",
    "strike = 40.0\n",
    "r = 0.08\n",
    "v = 0.30\n",
    "T = 91.0 / 365.0\n",
    "d = 0.0"
   ]
  },
  {
   "cell_type": "code",
   "execution_count": null,
   "metadata": {},
   "outputs": [],
   "source": []
  },
  {
   "cell_type": "code",
   "execution_count": null,
   "metadata": {},
   "outputs": [],
   "source": []
  },
  {
   "cell_type": "code",
   "execution_count": null,
   "metadata": {},
   "outputs": [],
   "source": []
  },
  {
   "cell_type": "markdown",
   "metadata": {},
   "source": [
    "<br>\n",
    "<br>\n",
    "\n",
    "**6.** The Black-Scholes-Merton (BSM) technique for deriving their famous formula was to conceive of an option market-maker delta hedging in continuous time. Check your intuition for this process by simulating the process and comparing the results to the Black-Scholes-Merton formula. Assume the parameters as above, except let $T = 1$ year and $\\mu = 10\\%$. Note that you must simulate asset prices under the real-world density (not the risk-neutral density). In the simulation let $h = \\frac{1}{365}$, and $M = 10,000$ replications. Use the same geometric Brownian motion process as above and make sure to check for terminal exercise. The average cost of hedging should approximate the BSM price. Compare the delta-hedging simulation results to the theoretical results from the BSM model. (See McDonald Chapters 13 & 19).\n",
    "\n",
    "<br>\n",
    "\n",
    "*Note:* if you find this exercise challenging, just think of the single-period binomial model $C = \\Delta S + B$. You won't actually use this model directly (you will use the BSM delta instead), but it should give you inspiration.\n",
    "\n",
    "<br>\n",
    "<br>"
   ]
  },
  {
   "cell_type": "code",
   "execution_count": 6,
   "metadata": {},
   "outputs": [],
   "source": [
    "## Simulate the BSM price via delta-hedging Monte Carlo\n",
    "\n",
    "### your code goes here ###"
   ]
  },
  {
   "cell_type": "code",
   "execution_count": null,
   "metadata": {},
   "outputs": [],
   "source": []
  },
  {
   "cell_type": "markdown",
   "metadata": {},
   "source": [
    "## Brief Essay Problems\n",
    "\n",
    "\n",
    "<br>\n",
    "<br>"
   ]
  },
  {
   "cell_type": "markdown",
   "metadata": {},
   "source": [
    "**7.** According to Christopher Culp \"... it becomes quite hard to explain a lot of financial and derivatives market activity without being a little bit Austrian.\" Discuss this statement in the context of the delta-hedging process of the option market-maker. You may also want to reference the Enron (Culp & Hanke) and Metallgesellschaft (Culp & Miller) cases and the citations therein. "
   ]
  },
  {
   "cell_type": "markdown",
   "metadata": {},
   "source": [
    "_Your answer goes here._"
   ]
  },
  {
   "cell_type": "code",
   "execution_count": null,
   "metadata": {},
   "outputs": [],
   "source": []
  }
 ],
 "metadata": {
  "kernelspec": {
   "display_name": "Python 3",
   "language": "python",
   "name": "python3"
  },
  "language_info": {
   "codemirror_mode": {
    "name": "ipython",
    "version": 3
   },
   "file_extension": ".py",
   "mimetype": "text/x-python",
   "name": "python",
   "nbconvert_exporter": "python",
   "pygments_lexer": "ipython3",
   "version": "3.6.5"
  }
 },
 "nbformat": 4,
 "nbformat_minor": 2
}
