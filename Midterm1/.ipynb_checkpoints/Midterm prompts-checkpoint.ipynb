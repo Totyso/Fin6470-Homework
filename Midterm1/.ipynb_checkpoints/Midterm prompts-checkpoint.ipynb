{
 "cells": [
  {
   "cell_type": "code",
   "execution_count": 1,
   "metadata": {},
   "outputs": [],
   "source": [
    "#3\n",
    "\n",
    "# What are they forcing? Equilibrium prices. What's an alternative? Equilibrium-like model with disequilibrium.\n",
    "# Can you simulate from an error-correction model?\n",
    "# If you were Culp and Miller how would you do this?\n",
    "# In this paper they use the closest future as their spot price. Comment on this.\n",
    "# They estimate these equations by simultaneous maximum likelihood. Take these estimates as written, simulate 45 days."
   ]
  },
  {
   "cell_type": "code",
   "execution_count": null,
   "metadata": {},
   "outputs": [],
   "source": [
    "#5\n",
    "\n",
    "# Don't use Johansen or Perrong, use Engle-Granger. Comment on these.\n",
    "# If you were an investor would you invest? Why or why not?\n",
    "# What does Bayes rule have to do with this question? Would it move your prior? What would you be looking at? Enough evidence on predictive density?\n",
    "# Enron reading important here, especially the discussion on Knight-read this as well\n",
    "# Working paper important\n",
    "\n",
    "# Lecturing birds on flying"
   ]
  }
 ],
 "metadata": {
  "kernelspec": {
   "display_name": "Python 3",
   "language": "python",
   "name": "python3"
  },
  "language_info": {
   "codemirror_mode": {
    "name": "ipython",
    "version": 3
   },
   "file_extension": ".py",
   "mimetype": "text/x-python",
   "name": "python",
   "nbconvert_exporter": "python",
   "pygments_lexer": "ipython3",
   "version": "3.6.5"
  }
 },
 "nbformat": 4,
 "nbformat_minor": 2
}
